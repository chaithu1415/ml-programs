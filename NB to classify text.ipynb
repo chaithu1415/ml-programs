{
 "cells": [
  {
   "cell_type": "code",
   "execution_count": 15,
   "metadata": {},
   "outputs": [],
   "source": [
    "#download directly from internet\n",
    "from sklearn.datasets import fetch_20newsgroups\n",
    "categories=['alt.atheism','soc.religion.christian','comp.graphics','sci.med']\n",
    "news_train=fetch_20newsgroups(subset='train',categories=categories,shuffle=True)\n",
    "news_test=fetch_20newsgroups(subset='test',categories=categories,shuffle=True)"
   ]
  },
  {
   "cell_type": "code",
   "execution_count": 16,
   "metadata": {},
   "outputs": [],
   "source": [
    "#download offline\n",
    "import sklearn.datasets as skd\n",
    "categories=['alt.athesim','soc.religion.christian','comp.graphics','sci.med']\n",
    "news_train=skd.load_files(r\"/home/student/Desktop/ML/20news-bydate-train\",categories=categories,encoding='ISO-8859-1')\n",
    "news_test=skd.load_files(r\"/home/student/Desktop/ML/20news-bydate-test\",categories=categories,encoding='ISO-8859-1')"
   ]
  },
  {
   "cell_type": "code",
   "execution_count": 17,
   "metadata": {},
   "outputs": [
    {
     "data": {
      "text/plain": [
       "['comp.graphics', 'sci.med', 'soc.religion.christian']"
      ]
     },
     "execution_count": 17,
     "metadata": {},
     "output_type": "execute_result"
    }
   ],
   "source": [
    "news_train.target_names\n"
   ]
  },
  {
   "cell_type": "code",
   "execution_count": 18,
   "metadata": {},
   "outputs": [
    {
     "name": "stdout",
     "output_type": "stream",
     "text": [
      "  (0, 9676)\t1\n",
      "  (0, 5710)\t1\n",
      "  (0, 16793)\t1\n",
      "  (0, 8661)\t1\n",
      "  (0, 21083)\t1\n",
      "  (0, 22669)\t1\n",
      "  (0, 28611)\t1\n",
      "  (0, 17032)\t1\n",
      "  (0, 30903)\t1\n",
      "  (0, 17186)\t1\n",
      "  (0, 21603)\t1\n",
      "  (0, 31162)\t1\n",
      "  (0, 14300)\t1\n",
      "  (0, 19765)\t1\n",
      "  (0, 7804)\t1\n",
      "  (0, 7862)\t1\n",
      "  (0, 11775)\t1\n",
      "  (0, 15282)\t1\n",
      "  (0, 29810)\t1\n",
      "  (0, 6308)\t1\n",
      "  (0, 25672)\t1\n",
      "  (0, 13684)\t1\n",
      "  (0, 6386)\t1\n",
      "  (0, 17973)\t1\n",
      "  (0, 28447)\t1\n",
      "  :\t:\n",
      "  (1776, 28366)\t3\n",
      "  (1776, 28465)\t1\n",
      "  (1776, 4194)\t1\n",
      "  (1776, 20838)\t1\n",
      "  (1776, 28369)\t8\n",
      "  (1776, 20403)\t3\n",
      "  (1776, 28482)\t2\n",
      "  (1776, 20970)\t1\n",
      "  (1776, 3948)\t3\n",
      "  (1776, 16240)\t3\n",
      "  (1776, 16175)\t3\n",
      "  (1776, 30865)\t1\n",
      "  (1776, 20108)\t1\n",
      "  (1776, 4693)\t3\n",
      "  (1776, 31240)\t2\n",
      "  (1776, 29956)\t1\n",
      "  (1776, 4675)\t2\n",
      "  (1776, 17735)\t1\n",
      "  (1776, 20734)\t3\n",
      "  (1776, 21010)\t1\n",
      "  (1776, 15387)\t6\n",
      "  (1776, 23785)\t1\n",
      "  (1776, 27412)\t1\n",
      "  (1776, 10974)\t1\n",
      "  (1776, 12996)\t1\n"
     ]
    }
   ],
   "source": [
    "#word count\n",
    "from sklearn.feature_extraction.text import CountVectorizer\n",
    "count=CountVectorizer()\n",
    "X_train=count.fit_transform(news_train.data)\n",
    "X_train.shape\n",
    "print(X_train)"
   ]
  },
  {
   "cell_type": "code",
   "execution_count": 19,
   "metadata": {},
   "outputs": [
    {
     "name": "stdout",
     "output_type": "stream",
     "text": [
      "  (0, 31463)\t0.04633440297064078\n",
      "  (0, 31240)\t0.025840168427645686\n",
      "  (0, 31162)\t0.06381719723638242\n",
      "  (0, 31060)\t0.04750486315896978\n",
      "  (0, 30903)\t0.03133406431248651\n",
      "  (0, 30865)\t0.206993120857143\n",
      "  (0, 30854)\t0.0550580916982713\n",
      "  (0, 30802)\t0.0400870413590034\n",
      "  (0, 30720)\t0.0963924090302684\n",
      "  (0, 30653)\t0.14112473990145213\n",
      "  (0, 30225)\t0.03679857702948807\n",
      "  (0, 29956)\t0.060685093303435036\n",
      "  (0, 29917)\t0.05765519433717958\n",
      "  (0, 29915)\t0.07444673333021445\n",
      "  (0, 29879)\t0.08250375487347528\n",
      "  (0, 29810)\t0.0364075314277767\n",
      "  (0, 29794)\t0.091394992259432\n",
      "  (0, 29664)\t0.0289120009675217\n",
      "  (0, 29605)\t0.17554602733675087\n",
      "  (0, 28879)\t0.07736273486425332\n",
      "  (0, 28751)\t0.06494696708850906\n",
      "  (0, 28678)\t0.09788953283479424\n",
      "  (0, 28611)\t0.03637248156915041\n",
      "  (0, 28520)\t0.059496541154724025\n",
      "  (0, 28482)\t0.042969653494374475\n",
      "  :\t:\n",
      "  (1776, 10355)\t0.06402620890694129\n",
      "  (1776, 9940)\t0.04027811012611572\n",
      "  (1776, 9938)\t0.07583074980547644\n",
      "  (1776, 9497)\t0.06372529980381887\n",
      "  (1776, 9274)\t0.09817420867862263\n",
      "  (1776, 8904)\t0.038517233650247076\n",
      "  (1776, 8362)\t0.06563875442960469\n",
      "  (1776, 8125)\t0.09410799984333808\n",
      "  (1776, 8031)\t0.07780043685818547\n",
      "  (1776, 7785)\t0.13434954273903113\n",
      "  (1776, 7485)\t0.19432603297929213\n",
      "  (1776, 6575)\t0.04388083232997253\n",
      "  (1776, 6428)\t0.10110161796393659\n",
      "  (1776, 6386)\t0.021204977555899326\n",
      "  (1776, 5206)\t0.05178911545775556\n",
      "  (1776, 4693)\t0.0681338678175991\n",
      "  (1776, 4675)\t0.050510245705660185\n",
      "  (1776, 4569)\t0.08699549928200172\n",
      "  (1776, 4194)\t0.015613896219327439\n",
      "  (1776, 4147)\t0.025490086467694704\n",
      "  (1776, 4097)\t0.0726323725502032\n",
      "  (1776, 4029)\t0.031086884767562616\n",
      "  (1776, 3948)\t0.08048892426464092\n",
      "  (1776, 1058)\t0.049821653609829236\n",
      "  (1776, 765)\t0.10665276496089053\n"
     ]
    }
   ],
   "source": [
    "#term frequency and inverse document frequency\n",
    "from sklearn.feature_extraction.text import TfidfTransformer\n",
    "tfid=TfidfTransformer()\n",
    "X_train_tfid=tfid.fit_transform(X_train)\n",
    "X_train_tfid.shape\n",
    "print(X_train_tfid)"
   ]
  },
  {
   "cell_type": "code",
   "execution_count": 20,
   "metadata": {},
   "outputs": [],
   "source": [
    "#NaiveBaeyes classifier\n",
    "from sklearn.naive_bayes import MultinomialNB\n",
    "a=MultinomialNB().fit(X_train_tfid,news_train.target)"
   ]
  },
  {
   "cell_type": "code",
   "execution_count": 21,
   "metadata": {},
   "outputs": [],
   "source": [
    "#to test the data\n",
    "X_test=count.transform(news_test.data)\n",
    "X_test_tfid=tfid.transform(X_test)\n",
    "predicted=a.predict(X_test_tfid)"
   ]
  },
  {
   "cell_type": "code",
   "execution_count": 22,
   "metadata": {},
   "outputs": [
    {
     "name": "stdout",
     "output_type": "stream",
     "text": [
      "[2 0 1 ... 2 1 1]\n"
     ]
    }
   ],
   "source": [
    "print(predicted)"
   ]
  },
  {
   "cell_type": "code",
   "execution_count": 23,
   "metadata": {},
   "outputs": [],
   "source": [
    "doc=['god is love','openGL on the GPU is fast']\n",
    "X_new_counts=count.transform(doc)\n",
    "X_new_tfid=tfid.transform(X_new_counts)\n",
    "predicted=a.predict(X_new_tfid)"
   ]
  },
  {
   "cell_type": "code",
   "execution_count": 24,
   "metadata": {},
   "outputs": [
    {
     "name": "stdout",
     "output_type": "stream",
     "text": [
      "2\n",
      "0\n"
     ]
    }
   ],
   "source": [
    "for x in predicted:\n",
    "    print(x)"
   ]
  },
  {
   "cell_type": "code",
   "execution_count": 25,
   "metadata": {},
   "outputs": [
    {
     "name": "stdout",
     "output_type": "stream",
     "text": [
      "Accuracy achieved is 0.0\n"
     ]
    },
    {
     "name": "stderr",
     "output_type": "stream",
     "text": [
      "/usr/local/lib/python3.7/dist-packages/ipykernel_launcher.py:2: DeprecationWarning: elementwise comparison failed; this will raise an error in the future.\n",
      "  \n"
     ]
    },
    {
     "ename": "ValueError",
     "evalue": "Found input variables with inconsistent numbers of samples: [1183, 2]",
     "output_type": "error",
     "traceback": [
      "\u001b[0;31m---------------------------------------------------------------------------\u001b[0m",
      "\u001b[0;31mValueError\u001b[0m                                Traceback (most recent call last)",
      "\u001b[0;32m<ipython-input-25-a162df75f787>\u001b[0m in \u001b[0;36m<module>\u001b[0;34m\u001b[0m\n\u001b[1;32m      1\u001b[0m \u001b[0;31m#calculate precision,recall\u001b[0m\u001b[0;34m\u001b[0m\u001b[0;34m\u001b[0m\u001b[0;34m\u001b[0m\u001b[0m\n\u001b[1;32m      2\u001b[0m \u001b[0mprint\u001b[0m\u001b[0;34m(\u001b[0m\u001b[0;34m'Accuracy achieved is '\u001b[0m \u001b[0;34m+\u001b[0m \u001b[0mstr\u001b[0m\u001b[0;34m(\u001b[0m\u001b[0mnp\u001b[0m\u001b[0;34m.\u001b[0m\u001b[0mmean\u001b[0m\u001b[0;34m(\u001b[0m\u001b[0mpredicted\u001b[0m \u001b[0;34m==\u001b[0m \u001b[0mnews_test\u001b[0m\u001b[0;34m.\u001b[0m\u001b[0mtarget\u001b[0m\u001b[0;34m)\u001b[0m\u001b[0;34m)\u001b[0m\u001b[0;34m)\u001b[0m\u001b[0;34m\u001b[0m\u001b[0;34m\u001b[0m\u001b[0m\n\u001b[0;32m----> 3\u001b[0;31m \u001b[0mprint\u001b[0m\u001b[0;34m(\u001b[0m\u001b[0mmetrics\u001b[0m\u001b[0;34m.\u001b[0m\u001b[0mclassification_report\u001b[0m\u001b[0;34m(\u001b[0m\u001b[0mnews_test\u001b[0m\u001b[0;34m.\u001b[0m\u001b[0mtarget\u001b[0m\u001b[0;34m,\u001b[0m \u001b[0mpredicted\u001b[0m\u001b[0;34m,\u001b[0m \u001b[0mtarget_names\u001b[0m\u001b[0;34m=\u001b[0m\u001b[0mnews_test\u001b[0m\u001b[0;34m.\u001b[0m\u001b[0mtarget_names\u001b[0m\u001b[0;34m)\u001b[0m\u001b[0;34m)\u001b[0m\u001b[0;34m,\u001b[0m\u001b[0;34m\u001b[0m\u001b[0;34m\u001b[0m\u001b[0m\n\u001b[0m\u001b[1;32m      4\u001b[0m \u001b[0mmetrics\u001b[0m\u001b[0;34m.\u001b[0m\u001b[0mconfusion_matrix\u001b[0m\u001b[0;34m(\u001b[0m\u001b[0mnews_test\u001b[0m\u001b[0;34m.\u001b[0m\u001b[0mtarget\u001b[0m\u001b[0;34m,\u001b[0m \u001b[0mpredicted\u001b[0m\u001b[0;34m)\u001b[0m\u001b[0;34m\u001b[0m\u001b[0;34m\u001b[0m\u001b[0m\n",
      "\u001b[0;32m/usr/local/lib/python3.7/dist-packages/sklearn/metrics/classification.py\u001b[0m in \u001b[0;36mclassification_report\u001b[0;34m(y_true, y_pred, labels, target_names, sample_weight, digits, output_dict)\u001b[0m\n\u001b[1;32m   1850\u001b[0m     \"\"\"\n\u001b[1;32m   1851\u001b[0m \u001b[0;34m\u001b[0m\u001b[0m\n\u001b[0;32m-> 1852\u001b[0;31m     \u001b[0my_type\u001b[0m\u001b[0;34m,\u001b[0m \u001b[0my_true\u001b[0m\u001b[0;34m,\u001b[0m \u001b[0my_pred\u001b[0m \u001b[0;34m=\u001b[0m \u001b[0m_check_targets\u001b[0m\u001b[0;34m(\u001b[0m\u001b[0my_true\u001b[0m\u001b[0;34m,\u001b[0m \u001b[0my_pred\u001b[0m\u001b[0;34m)\u001b[0m\u001b[0;34m\u001b[0m\u001b[0;34m\u001b[0m\u001b[0m\n\u001b[0m\u001b[1;32m   1853\u001b[0m \u001b[0;34m\u001b[0m\u001b[0m\n\u001b[1;32m   1854\u001b[0m     \u001b[0mlabels_given\u001b[0m \u001b[0;34m=\u001b[0m \u001b[0;32mTrue\u001b[0m\u001b[0;34m\u001b[0m\u001b[0;34m\u001b[0m\u001b[0m\n",
      "\u001b[0;32m/usr/local/lib/python3.7/dist-packages/sklearn/metrics/classification.py\u001b[0m in \u001b[0;36m_check_targets\u001b[0;34m(y_true, y_pred)\u001b[0m\n\u001b[1;32m     69\u001b[0m     \u001b[0my_pred\u001b[0m \u001b[0;34m:\u001b[0m \u001b[0marray\u001b[0m \u001b[0;32mor\u001b[0m \u001b[0mindicator\u001b[0m \u001b[0mmatrix\u001b[0m\u001b[0;34m\u001b[0m\u001b[0;34m\u001b[0m\u001b[0m\n\u001b[1;32m     70\u001b[0m     \"\"\"\n\u001b[0;32m---> 71\u001b[0;31m     \u001b[0mcheck_consistent_length\u001b[0m\u001b[0;34m(\u001b[0m\u001b[0my_true\u001b[0m\u001b[0;34m,\u001b[0m \u001b[0my_pred\u001b[0m\u001b[0;34m)\u001b[0m\u001b[0;34m\u001b[0m\u001b[0;34m\u001b[0m\u001b[0m\n\u001b[0m\u001b[1;32m     72\u001b[0m     \u001b[0mtype_true\u001b[0m \u001b[0;34m=\u001b[0m \u001b[0mtype_of_target\u001b[0m\u001b[0;34m(\u001b[0m\u001b[0my_true\u001b[0m\u001b[0;34m)\u001b[0m\u001b[0;34m\u001b[0m\u001b[0;34m\u001b[0m\u001b[0m\n\u001b[1;32m     73\u001b[0m     \u001b[0mtype_pred\u001b[0m \u001b[0;34m=\u001b[0m \u001b[0mtype_of_target\u001b[0m\u001b[0;34m(\u001b[0m\u001b[0my_pred\u001b[0m\u001b[0;34m)\u001b[0m\u001b[0;34m\u001b[0m\u001b[0;34m\u001b[0m\u001b[0m\n",
      "\u001b[0;32m/usr/local/lib/python3.7/dist-packages/sklearn/utils/validation.py\u001b[0m in \u001b[0;36mcheck_consistent_length\u001b[0;34m(*arrays)\u001b[0m\n\u001b[1;32m    203\u001b[0m     \u001b[0;32mif\u001b[0m \u001b[0mlen\u001b[0m\u001b[0;34m(\u001b[0m\u001b[0muniques\u001b[0m\u001b[0;34m)\u001b[0m \u001b[0;34m>\u001b[0m \u001b[0;36m1\u001b[0m\u001b[0;34m:\u001b[0m\u001b[0;34m\u001b[0m\u001b[0;34m\u001b[0m\u001b[0m\n\u001b[1;32m    204\u001b[0m         raise ValueError(\"Found input variables with inconsistent numbers of\"\n\u001b[0;32m--> 205\u001b[0;31m                          \" samples: %r\" % [int(l) for l in lengths])\n\u001b[0m\u001b[1;32m    206\u001b[0m \u001b[0;34m\u001b[0m\u001b[0m\n\u001b[1;32m    207\u001b[0m \u001b[0;34m\u001b[0m\u001b[0m\n",
      "\u001b[0;31mValueError\u001b[0m: Found input variables with inconsistent numbers of samples: [1183, 2]"
     ]
    }
   ],
   "source": [
    "#calculate precision,recall\n",
    "print('Accuracy achieved is ' + str(np.mean(predicted == news_test.target)))\n",
    "print(metrics.classification_report(news_test.target, predicted, target_names=news_test.target_names)),\n",
    "metrics.confusion_matrix(news_test.target, predicted)"
   ]
  },
  {
   "cell_type": "code",
   "execution_count": 26,
   "metadata": {},
   "outputs": [
    {
     "name": "stdout",
     "output_type": "stream",
     "text": [
      "Accuracy achieved is 0.8348868175765646\n",
      "                        precision    recall  f1-score   support\n",
      "\n",
      "           alt.atheism       0.97      0.60      0.74       319\n",
      "         comp.graphics       0.96      0.89      0.92       389\n",
      "               sci.med       0.97      0.81      0.88       396\n",
      "soc.religion.christian       0.65      0.99      0.78       398\n",
      "\n",
      "              accuracy                           0.83      1502\n",
      "             macro avg       0.89      0.82      0.83      1502\n",
      "          weighted avg       0.88      0.83      0.84      1502\n",
      "\n"
     ]
    },
    {
     "data": {
      "text/plain": [
       "array([[192,   2,   6, 119],\n",
       "       [  2, 347,   4,  36],\n",
       "       [  2,  11, 322,  61],\n",
       "       [  2,   2,   1, 393]])"
      ]
     },
     "execution_count": 26,
     "metadata": {},
     "output_type": "execute_result"
    }
   ],
   "source": [
    "import sklearn.datasets as skd\n",
    "\n",
    "categories = ['alt.atheism', 'soc.religion.christian','comp.graphics', 'sci.med']\n",
    "news_train=skd.load_files(r\"/home/student/Desktop/ML/20news-bydate-train\",categories=categories,encoding='ISO-8859-1')\n",
    "news_test=skd.load_files(r\"/home/student/Desktop/ML/20news-bydate-test\",categories=categories,encoding='ISO-8859-1')\n",
    "from sklearn.pipeline import Pipeline\n",
    "from sklearn.feature_extraction.text import TfidfVectorizer\n",
    "from sklearn.naive_bayes import MultinomialNB\n",
    "\n",
    "text_clf = Pipeline([('vect', TfidfVectorizer()), \n",
    "                      ('clf', MultinomialNB()) ])\n",
    "\n",
    "# train the model\n",
    "text_clf.fit(news_train.data, news_train.target)\n",
    "# Predict the test cases\n",
    "predicted = text_clf.predict(news_test.data)\n",
    "\n",
    "from sklearn import metrics\n",
    "from sklearn.metrics import accuracy_score\n",
    "import numpy as np\n",
    "\n",
    "print('Accuracy achieved is ' + str(np.mean(predicted == news_test.target)))\n",
    "print(metrics.classification_report(news_test.target, predicted, target_names=news_test.target_names)),\n",
    "metrics.confusion_matrix(news_test.target, predicted)\n"
   ]
  },
  {
   "cell_type": "code",
   "execution_count": null,
   "metadata": {},
   "outputs": [],
   "source": []
  }
 ],
 "metadata": {
  "kernelspec": {
   "display_name": "Python 3",
   "language": "python",
   "name": "python3"
  },
  "language_info": {
   "codemirror_mode": {
    "name": "ipython",
    "version": 3
   },
   "file_extension": ".py",
   "mimetype": "text/x-python",
   "name": "python",
   "nbconvert_exporter": "python",
   "pygments_lexer": "ipython3",
   "version": "3.7.6"
  }
 },
 "nbformat": 4,
 "nbformat_minor": 2
}
